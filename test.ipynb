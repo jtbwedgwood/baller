{
 "cells": [
  {
   "cell_type": "markdown",
   "metadata": {},
   "source": [
    "## Make sure you can actually connect to OpenAI"
   ]
  },
  {
   "cell_type": "code",
   "execution_count": 14,
   "metadata": {},
   "outputs": [
    {
     "name": "stdout",
     "output_type": "stream",
     "text": [
      "51\n"
     ]
    }
   ],
   "source": [
    "with open('API_KEY.txt') as f:\n",
    "    API_KEY = f.read()\n",
    "print(len(API_KEY))"
   ]
  },
  {
   "cell_type": "code",
   "execution_count": 11,
   "metadata": {},
   "outputs": [
    {
     "data": {
      "text/plain": [
       "', C., and P. S. Gupta, \"Nonlinear fractional order\\nPID controller for improved performance in speed control of DC\\nmotor,\" International Journal of Intelligent Control and Systems,\\nVol. 13, No. 1, 95-101, 2008.\\n\\n14. Khalil, H. K., Nonlinear Systems, Prentice Hall, New Jersey,\\n1996.\\n\\n15. Chen, Y., Y. Chen, and J. Chen, \"A general approach for\\nconstructing Lyapunov function of fractional order systems,\"\\nJournal of Control Theory and Applications, Vol. 7, No. 1, 31-35,\\n2009.\\n\\n16. Chen, Y. and Y. Chen, \"A new driving mechanism for the\\nRössler chaotic system,\" Physics Letters A, Vol. 373, 3911-3914,\\n2009.\\n\\n17. Wang, J., Y. Chen, and M. Tang, \"Design of a new chaotic\\nsystem with given equilibrium,\" Communications in Nonlinear\\nScience and Numerical Simulation, Vol. 16, No. 6, 2578-2583,\\n2011.\\n\\n18. Wang, J., Y. Chen, and Y. Chen,'"
      ]
     },
     "execution_count": 11,
     "metadata": {},
     "output_type": "execute_result"
    }
   ],
   "source": [
    "from langchain_openai import OpenAI\n",
    "\n",
    "llm = OpenAI()\n",
    "llm.invoke('hi')"
   ]
  },
  {
   "cell_type": "code",
   "execution_count": 15,
   "metadata": {},
   "outputs": [
    {
     "name": "stdout",
     "output_type": "stream",
     "text": [
      "Hello! Absolutely, I can. This is a test response to your request. How else may I assist you today?\n"
     ]
    }
   ],
   "source": [
    "import openai\n",
    "\n",
    "# Initialize the OpenAI API client\n",
    "client = openai.OpenAI(api_key=API_KEY)\n",
    "\n",
    "# Create a chat completion\n",
    "response = client.chat.completions.create(\n",
    "    model=\"gpt-4\",  # or \"gpt-3.5-turbo\"\n",
    "    messages=[\n",
    "        {\"role\": \"system\", \"content\": \"You are a helpful assistant.\"},\n",
    "        {\"role\": \"user\", \"content\": \"Hello, ChatGPT! Can you give me a test response?\"}\n",
    "    ]\n",
    ")\n",
    "\n",
    "# Print the response\n",
    "print(response.choices[0].message.content)"
   ]
  },
  {
   "cell_type": "code",
   "execution_count": 16,
   "metadata": {},
   "outputs": [
    {
     "data": {
      "text/plain": [
       "'Hello! How can I assist you today?'"
      ]
     },
     "execution_count": 16,
     "metadata": {},
     "output_type": "execute_result"
    }
   ],
   "source": [
    "from utils import invoke_llm\n",
    "\n",
    "invoke_llm('hi')"
   ]
  },
  {
   "cell_type": "code",
   "execution_count": 18,
   "metadata": {},
   "outputs": [
    {
     "name": "stdout",
     "output_type": "stream",
     "text": [
      "test_func\n",
      "None\n",
      "{'a': <class 'int'>, 'b': typing.Optional[str]}\n"
     ]
    }
   ],
   "source": [
    "import inspect\n",
    "import typing as t\n",
    "\n",
    "def test_func(a: int, b: t.Optional[str] = None) -> t.Tuple[int, int]:\n",
    "    print(b)\n",
    "    return a, a\n",
    "\n",
    "print(test_func.__name__)\n",
    "print(test_func.__doc__)\n",
    "sig = inspect.signature(test_func)\n",
    "parameters = sig.parameters\n",
    "print({name: param.annotation for name, param in parameters.items()})"
   ]
  },
  {
   "cell_type": "code",
   "execution_count": null,
   "metadata": {},
   "outputs": [],
   "source": []
  }
 ],
 "metadata": {
  "kernelspec": {
   "display_name": ".venv",
   "language": "python",
   "name": "python3"
  },
  "language_info": {
   "codemirror_mode": {
    "name": "ipython",
    "version": 3
   },
   "file_extension": ".py",
   "mimetype": "text/x-python",
   "name": "python",
   "nbconvert_exporter": "python",
   "pygments_lexer": "ipython3",
   "version": "3.12.0"
  }
 },
 "nbformat": 4,
 "nbformat_minor": 2
}
